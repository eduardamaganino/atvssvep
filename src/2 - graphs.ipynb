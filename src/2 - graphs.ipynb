{
 "cells": [
  {
   "cell_type": "markdown",
   "metadata": {},
   "source": [
    "# Apresentação dos gráficos SSVEP\n",
    "\n",
    "Após a organização e gravação dos dados no objeto MNE, vamos carrgalo novamente para filtrar e apresentar os dados."
   ]
  },
  {
   "cell_type": "code",
   "execution_count": 1,
   "metadata": {},
   "outputs": [
    {
     "name": "stdout",
     "output_type": "stream",
     "text": [
      "Reading c:\\Users\\eduar\\OneDrive\\Documentos\\7° periodo-CM\\Interfaces Não Convencionais\\atvssvep\\opt020\\src\\ssvep-epo.fif ...\n",
      "Isotrak not found\n",
      "    Found the data of interest:\n",
      "        t =       0.00 ...   15998.05 ms\n",
      "        0 CTF compensation matrices available\n",
      "Not setting metadata\n",
      "5 matching events found\n",
      "No baseline correction applied\n",
      "0 projection items activated\n"
     ]
    }
   ],
   "source": [
    "# carregamento dos dados\n",
    "\n",
    "import mne\n",
    "epochs = mne.read_epochs('ssvep-epo.fif')"
   ]
  },
  {
   "cell_type": "code",
   "execution_count": 2,
   "metadata": {},
   "outputs": [
    {
     "name": "stdout",
     "output_type": "stream",
     "text": [
      "Setting up band-pass filter from 1 - 30 Hz\n",
      "\n",
      "FIR filter parameters\n",
      "---------------------\n",
      "Designing a one-pass, zero-phase, non-causal bandpass filter:\n",
      "- Windowed time-domain design (firwin) method\n",
      "- Hamming window with 0.0194 passband ripple and 53 dB stopband attenuation\n",
      "- Lower passband edge: 1.00\n",
      "- Lower transition bandwidth: 1.00 Hz (-6 dB cutoff frequency: 0.50 Hz)\n",
      "- Upper passband edge: 30.00 Hz\n",
      "- Upper transition bandwidth: 7.50 Hz (-6 dB cutoff frequency: 33.75 Hz)\n",
      "- Filter length: 1691 samples (3.303 s)\n",
      "\n"
     ]
    },
    {
     "name": "stderr",
     "output_type": "stream",
     "text": [
      "[Parallel(n_jobs=1)]: Done  17 tasks      | elapsed:    0.0s\n",
      "[Parallel(n_jobs=1)]: Done  71 tasks      | elapsed:    0.0s\n"
     ]
    }
   ],
   "source": [
    "# filtragem dos dados\n",
    "epochs = epochs.filter(1, 30).copy()"
   ]
  },
  {
   "cell_type": "code",
   "execution_count": 1,
   "metadata": {},
   "outputs": [
    {
     "ename": "NameError",
     "evalue": "name 'epochs' is not defined",
     "output_type": "error",
     "traceback": [
      "\u001b[1;31m---------------------------------------------------------------------------\u001b[0m",
      "\u001b[1;31mNameError\u001b[0m                                 Traceback (most recent call last)",
      "Cell \u001b[1;32mIn[1], line 2\u001b[0m\n\u001b[0;32m      1\u001b[0m \u001b[38;5;66;03m# visualização dos dados\u001b[39;00m\n\u001b[1;32m----> 2\u001b[0m \u001b[38;5;28mprint\u001b[39m(\u001b[43mepochs\u001b[49m)\n\u001b[0;32m      4\u001b[0m \u001b[38;5;28;01mimport\u001b[39;00m \u001b[38;5;21;01mmatplotlib\u001b[39;00m\u001b[38;5;21;01m.\u001b[39;00m\u001b[38;5;21;01mpyplot\u001b[39;00m \u001b[38;5;28;01mas\u001b[39;00m \u001b[38;5;21;01mplt\u001b[39;00m\n\u001b[0;32m      6\u001b[0m \u001b[38;5;66;03m# Selecionar uma amostra de épocas e canais para reduzir o número de gráficos\u001b[39;00m\n",
      "\u001b[1;31mNameError\u001b[0m: name 'epochs' is not defined"
     ]
    }
   ],
   "source": [
    "# visualização dos dados\n",
    "print(epochs)\n",
    "\n",
    "import matplotlib.pyplot as plt\n",
    "\n",
    "# Selecionar uma amostra de épocas e canais para reduzir o número de gráficos\n",
    "sample_epochs = [0, 2]  # Escolher a 1ª e a 3ª época como exemplo (índices 0 e 2)\n",
    "sample_channels = [0, 10]  # Escolher o 1º e o 11º canal como exemplo (índices 0 e 10)\n",
    "\n",
    "# Gerar gráficos de PSD para as amostras selecionadas\n",
    "for i in sample_epochs:\n",
    "    for ch_idx in sample_channels:  # Iterar sobre os canais selecionados\n",
    "\n",
    "        view = epochs[i].pick_channels([epochs.info['ch_names'][ch_idx]]).compute_psd(method='multitaper', fmin=3, fmax=13, verbose=False)\n",
    "        \n",
    "        view.plot(show=False)\n",
    "        plt.title(f'Domínio da Frequência - Época {i+1}, Canal {epochs.info[\"ch_names\"][ch_idx]}')\n",
    "        event_value = float(list(epochs[i].event_id.keys())[0])  # Pegando o valor do evento para a época\n",
    "        plt.axvline(x=event_value, linestyle='--', color='green')\n",
    "\n",
    "        plt.show()\n",
    "\n",
    "print(\"Amostras dos gráficos gerados.\")"
   ]
  },
  {
   "cell_type": "markdown",
   "metadata": {},
   "source": [
    "*Tarefa*: mostrar os gráficos para o _shape_ `(5, 20, 1, 8192)` solicitado inicialmente."
   ]
  }
 ],
 "metadata": {
  "kernelspec": {
   "display_name": "venv",
   "language": "python",
   "name": "python3"
  },
  "language_info": {
   "codemirror_mode": {
    "name": "ipython",
    "version": 3
   },
   "file_extension": ".py",
   "mimetype": "text/x-python",
   "name": "python",
   "nbconvert_exporter": "python",
   "pygments_lexer": "ipython3",
   "version": "3.12.1"
  }
 },
 "nbformat": 4,
 "nbformat_minor": 2
}
