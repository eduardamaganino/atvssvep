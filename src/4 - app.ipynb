{
 "cells": [
  {
   "cell_type": "markdown",
   "metadata": {},
   "source": [
    "# Simulação de aplicação\n",
    "\n",
    "O paradigma SSVEP é bastante utilizado em aplicações reais por ser fácil de evocar os sinais e posteriormente classificá-los.\n",
    "\n",
    "Para processar uma aplicação SSVEP em tempo real é necessário calcular a máxima energia dos _targets_ em janelas ou _buffers_ suficientemente grandes. O tamanho da janela de dados é inversamente proporcional a taxa de amostragem do equipamente de EEG utilizado. Ou seja, quanto maior a taxa de amostragem, menor o tempo decessário para calcular a **energia deslizante do sinal**.\n",
    "\n",
    "**Tarefa**: simule uma aplicação SSVEP criando um buffer do sinal no domínio do tempo em uma única dimensão. Se inicialmente a dimensão dos dados era `(100, 8192)`, agora será `(819200)`. Crie um buffer de 3 ou 4 segundos, informando a cada segundo qual está sendo a frequência evocada."
   ]
  },
  {
   "cell_type": "code",
   "execution_count": 4,
   "metadata": {},
   "outputs": [
    {
     "name": "stdout",
     "output_type": "stream",
     "text": [
      "Creating RawArray with float64 data, n_channels=1, n_times=81920\n",
      "    Range : 0 ... 81919 =      0.000 ...    10.000 secs\n",
      "Ready.\n",
      "Tempo: 0.00 - Frequência Evocada: 10.00 Hz\n",
      "Tempo: 3.00 - Frequência Evocada: 9.67 Hz\n",
      "Tempo: 6.00 - Frequência Evocada: 9.67 Hz\n"
     ]
    }
   ],
   "source": [
    "import numpy as np\n",
    "import mne\n",
    "\n",
    "# Definir parâmetros\n",
    "fs = 8192  # Taxa de amostragem (Hz)\n",
    "duration = 10  # Duração do sinal em segundos\n",
    "buffer_size = 3  # Tamanho da janela em segundos (buffer de 3 segundos)\n",
    "n_samples = fs * duration  # Número total de amostras\n",
    "n_buffer_samples = fs * buffer_size  # Número de amostras por janela\n",
    "\n",
    "# Gerar dados fictícios (Exemplo de sinal de EEG simulado)\n",
    "# Usaremos uma combinação de frequências para simular um sinal de EEG com componentes SSVEP\n",
    "time = np.arange(n_samples) / fs  # Tempo total do sinal\n",
    "signal = np.sin(2 * np.pi * 10 * time) + 0.5 * np.sin(2 * np.pi * 15 * time)  # Frequências de 10Hz e 15Hz\n",
    "\n",
    "# Adicionar ruído ao sinal para torná-lo mais realista\n",
    "np.random.seed(42)\n",
    "signal += 0.1 * np.random.randn(n_samples)\n",
    "\n",
    "# Converter o sinal para um objeto Epochs do MNE (simulando que ele vem de um arquivo de EEG)\n",
    "# Aqui estamos criando um único canal de EEG\n",
    "info = mne.create_info(ch_names=['EEG'], sfreq=fs, ch_types=['eeg'])\n",
    "raw_data = np.array([signal])\n",
    "raw = mne.io.RawArray(raw_data, info)\n",
    "\n",
    "# Função para processar cada buffer (janela) de dados\n",
    "def process_buffer(buffer, fs, fmin=3, fmax=30):\n",
    "    # Calcular a PSD usando o método multitaper\n",
    "    psd, freqs = mne.time_frequency.psd_array_multitaper(buffer, sfreq=fs, fmin=fmin, fmax=fmax, verbose=False)\n",
    "    \n",
    "    # Extrair a PSD do buffer (o dado retornado é por canal e por frequência)\n",
    "    psd_values = psd  # Para o primeiro (e único) canal\n",
    "    \n",
    "    # Encontrar a frequência com maior energia\n",
    "    max_idx = np.argmax(psd_values)  # Índice da maior energia\n",
    "    max_freq = freqs[max_idx]  # Frequência associada à maior energia\n",
    "    \n",
    "    return max_freq\n",
    "\n",
    "# Simulação de um processo em tempo real com janela deslizante\n",
    "for start_idx in range(0, len(signal) - n_buffer_samples, n_buffer_samples):\n",
    "    end_idx = start_idx + n_buffer_samples\n",
    "    buffer = signal[start_idx:end_idx]  # Extrair o buffer do sinal\n",
    "    \n",
    "    # Processar o buffer e calcular a frequência máxima\n",
    "    max_freq = process_buffer(buffer, fs)\n",
    "    \n",
    "    # Imprimir a frequência evocada\n",
    "    print(f\"Tempo: {start_idx/fs:.2f} - Frequência Evocada: {max_freq:.2f} Hz\")\n"
   ]
  }
 ],
 "metadata": {
  "kernelspec": {
   "display_name": "venv",
   "language": "python",
   "name": "python3"
  },
  "language_info": {
   "codemirror_mode": {
    "name": "ipython",
    "version": 3
   },
   "file_extension": ".py",
   "mimetype": "text/x-python",
   "name": "python",
   "nbconvert_exporter": "python",
   "pygments_lexer": "ipython3",
   "version": "3.12.1"
  }
 },
 "nbformat": 4,
 "nbformat_minor": 2
}
