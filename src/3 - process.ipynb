{
 "cells": [
  {
   "cell_type": "markdown",
   "metadata": {},
   "source": [
    "# Classificação por isolamento de frequência\n",
    "\n",
    "Neste notebook será realizado um exemplo de classificação, isolando todas as frequências estimuladas no conjunto de dados AVI SSVEP simplificado para um participante.\n",
    "\n",
    "### Passos para a realização da classificação:\n",
    "\n",
    "1. Carrega o arquivo fif (mne.EpochsArray);\n",
    "2. Obter a \"energia\" do sinal por meio do cálculo `compute_psd` para os dados no domínio do tempo;\n",
    "4. Com os dados PSD, encontre o valor máximo para cada _trial_ e compare com o valor que está sendo evocado.\n",
    "5. Por fim, acumule os acertos para mostrar uma acurácia simples."
   ]
  },
  {
   "cell_type": "code",
   "execution_count": 1,
   "metadata": {},
   "outputs": [
    {
     "name": "stdout",
     "output_type": "stream",
     "text": [
      "Reading c:\\Users\\eduar\\OneDrive\\Documentos\\7° periodo-CM\\Interfaces Não Convencionais\\atvssvep\\src\\ssvep-epo.fif ...\n",
      "Isotrak not found\n",
      "    Found the data of interest:\n",
      "        t =       0.00 ...   15998.05 ms\n",
      "        0 CTF compensation matrices available\n",
      "Not setting metadata\n",
      "50 matching events found\n",
      "No baseline correction applied\n",
      "0 projection items activated\n",
      "Setting up band-pass filter from 1 - 30 Hz\n",
      "\n",
      "FIR filter parameters\n",
      "---------------------\n",
      "Designing a one-pass, zero-phase, non-causal bandpass filter:\n",
      "- Windowed time-domain design (firwin) method\n",
      "- Hamming window with 0.0194 passband ripple and 53 dB stopband attenuation\n",
      "- Lower passband edge: 1.00\n",
      "- Lower transition bandwidth: 1.00 Hz (-6 dB cutoff frequency: 0.50 Hz)\n",
      "- Upper passband edge: 30.00 Hz\n",
      "- Upper transition bandwidth: 7.50 Hz (-6 dB cutoff frequency: 33.75 Hz)\n",
      "- Filter length: 1691 samples (3.303 s)\n",
      "\n"
     ]
    },
    {
     "name": "stderr",
     "output_type": "stream",
     "text": [
      "[Parallel(n_jobs=1)]: Done  17 tasks      | elapsed:    0.0s\n"
     ]
    }
   ],
   "source": [
    "import mne\n",
    "import numpy as np\n",
    "\n",
    "# Carregar os dados de um arquivo FIF\n",
    "epochs = mne.read_epochs('ssvep-epo.fif')\n",
    "\n",
    "# Filtragem dos dados (1-30 Hz)\n",
    "epochs = epochs.filter(1, 30).copy()"
   ]
  },
  {
   "cell_type": "code",
   "execution_count": 2,
   "metadata": {},
   "outputs": [
    {
     "name": "stdout",
     "output_type": "stream",
     "text": [
      "Acurácia da classificação: 74.00%\n"
     ]
    }
   ],
   "source": [
    "# Inicializar contadores de acertos e tentativas\n",
    "correct = 0\n",
    "total_tentativas = len(epochs)\n",
    "\n",
    "for i in range(len(epochs)):\n",
    "    psd = epochs[i].compute_psd(method='multitaper', fmin=3, fmax=13, verbose=False)\n",
    "    freqs = psd.freqs\n",
    "    psd_values = psd.get_data()  \n",
    "    \n",
    "    max_freqs = []\n",
    "    for ch in range(psd_values.shape[0]):  \n",
    "        max_idx = np.unravel_index(np.argmax(psd_values[ch], axis=None), psd_values[ch].shape)\n",
    "        max_freq = freqs[max_idx[1]]\n",
    "        max_freqs.append(max_freq)\n",
    "\n",
    "    event_id = epochs[i].event_id\n",
    "    evoked_freq = float(list(event_id.keys())[0])\n",
    "\n",
    "    if any(np.isclose(max_freq, evoked_freq, atol=1.0) for max_freq in max_freqs):\n",
    "        correct += 1\n",
    "\n",
    "\n",
    "# Calcular a acurácia\n",
    "accuracy = correct / total_tentativas * 100\n",
    "\n",
    "# Exibir a acurácia\n",
    "print(f'Acurácia da classificação: {accuracy:.2f}%')\n"
   ]
  }
 ],
 "metadata": {
  "kernelspec": {
   "display_name": "venv",
   "language": "python",
   "name": "python3"
  },
  "language_info": {
   "codemirror_mode": {
    "name": "ipython",
    "version": 3
   },
   "file_extension": ".py",
   "mimetype": "text/x-python",
   "name": "python",
   "nbconvert_exporter": "python",
   "pygments_lexer": "ipython3",
   "version": "3.12.1"
  }
 },
 "nbformat": 4,
 "nbformat_minor": 2
}
