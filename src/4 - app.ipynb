{
 "cells": [
  {
   "cell_type": "markdown",
   "metadata": {},
   "source": [
    "# Simulação de aplicação\n",
    "\n",
    "O paradigma SSVEP é bastante utilizado em aplicações reais por ser fácil de evocar os sinais e posteriormente classificá-los.\n",
    "\n",
    "Para processar uma aplicação SSVEP em tempo real é necessário calcular a máxima energia dos _targets_ em janelas ou _buffers_ suficientemente grandes. O tamanho da janela de dados é inversamente proporcional a taxa de amostragem do equipamente de EEG utilizado. Ou seja, quanto maior a taxa de amostragem, menor o tempo decessário para calcular a **energia deslizante do sinal**.\n",
    "\n",
    "**Tarefa**: simule uma aplicação SSVEP criando um buffer do sinal no domínio do tempo em uma única dimensão. Se inicialmente a dimensão dos dados era `(100, 8192)`, agora será `(819200)`. Crie um buffer de 3 ou 4 segundos, informando a cada segundo qual está sendo a frequência evocada."
   ]
  },
  {
   "cell_type": "code",
   "execution_count": 12,
   "metadata": {},
   "outputs": [
    {
     "name": "stdout",
     "output_type": "stream",
     "text": [
      "Start(s)       End(s)         FrequenciaEvocada(Hz)\n",
      "0.00           3.00           10.00               \n",
      "1.00           4.00           9.67                \n",
      "2.00           5.00           10.00               \n",
      "3.00           6.00           9.67                \n",
      "4.00           7.00           9.67                \n",
      "5.00           8.00           9.67                \n",
      "6.00           9.00           9.67                \n"
     ]
    }
   ],
   "source": [
    "import numpy as np\n",
    "import mne\n",
    "\n",
    "fs = 8192\n",
    "duration = 10\n",
    "buffer_size = 3\n",
    "step_size = 1\n",
    "n_samples = fs * duration\n",
    "n_buffer_samples = fs * buffer_size\n",
    "n_step_samples = fs * step_size\n",
    "\n",
    "time = np.arange(n_samples) / fs\n",
    "signal = np.sin(2 * np.pi * 10 * time) + 0.5 * np.sin(2 * np.pi * 15 * time)\n",
    "\n",
    "np.random.seed(42)\n",
    "signal += 0.1 * np.random.randn(n_samples)\n",
    "signal = signal.flatten()\n",
    "\n",
    "def process_buffer(buffer, fs, fmin=3, fmax=30):\n",
    "    psd, freqs = mne.time_frequency.psd_array_multitaper(buffer, sfreq=fs, fmin=fmin, fmax=fmax, verbose=False)\n",
    "    psd_values = psd\n",
    "    max_idx = np.argmax(psd_values)\n",
    "    max_freq = freqs[max_idx]\n",
    "    return max_freq\n",
    "\n",
    "results = []\n",
    "\n",
    "for start_idx in range(0, len(signal) - n_buffer_samples, n_step_samples):\n",
    "    end_idx = start_idx + n_buffer_samples\n",
    "    buffer = signal[start_idx:end_idx]\n",
    "    max_freq = process_buffer(buffer, fs)\n",
    "    results.append((start_idx / fs, end_idx / fs, max_freq))\n",
    "\n",
    "print(f\"{'Start(s)':<15}{'End(s)':<15}{'FrequenciaEvocada(Hz)':<20}\")\n",
    "for start_time, end_time, evoked_freq in results:\n",
    "    print(f\"{start_time:<15.2f}{end_time:<15.2f}{evoked_freq:<20.2f}\")\n"
   ]
  }
 ],
 "metadata": {
  "kernelspec": {
   "display_name": "venv",
   "language": "python",
   "name": "python3"
  },
  "language_info": {
   "codemirror_mode": {
    "name": "ipython",
    "version": 3
   },
   "file_extension": ".py",
   "mimetype": "text/x-python",
   "name": "python",
   "nbconvert_exporter": "python",
   "pygments_lexer": "ipython3",
   "version": "3.12.1"
  }
 },
 "nbformat": 4,
 "nbformat_minor": 2
}
